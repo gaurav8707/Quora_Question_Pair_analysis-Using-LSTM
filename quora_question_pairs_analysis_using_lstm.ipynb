{
  "cells": [
    {
      "cell_type": "markdown",
      "source": [
        "\n",
        "\n",
        "Name- Gaurav Sharan\n",
        "\n"
      ],
      "metadata": {
        "id": "gWuB1o27MT0c"
      }
    },
    {
      "metadata": {
        "id": "WpGFflzpMGuy"
      },
      "cell_type": "markdown",
      "source": [
        "**DATASET LINK - https://www.kaggle.com/c/quora-question-pairs/data**"
      ]
    },
    {
      "cell_type": "markdown",
      "source": [],
      "metadata": {
        "id": "Wtz54PPNMS_y"
      }
    },
    {
      "metadata": {
        "_uuid": "d629ff2d2480ee46fbb7e2d37f6b5fab8052498a",
        "_cell_guid": "79c7e3d0-c299-4dcb-8224-4455121ee9b0",
        "trusted": true,
        "id": "oooRHMtSMGuy"
      },
      "cell_type": "code",
      "source": [
        "train=pd.read_csv('/kaggle/input/quora-question-pairs/train.csv.zip')"
      ],
      "execution_count": null,
      "outputs": []
    },
    {
      "metadata": {
        "trusted": true,
        "id": "7Mms_WnEMGuz",
        "outputId": "34628e88-4fcd-4e35-c781-b55883908b34"
      },
      "cell_type": "code",
      "source": [
        "train.shape"
      ],
      "execution_count": null,
      "outputs": [
        {
          "output_type": "execute_result",
          "execution_count": 3,
          "data": {
            "text/plain": "(404290, 6)"
          },
          "metadata": {}
        }
      ]
    },
    {
      "metadata": {
        "id": "k6UhdYQhMGu0"
      },
      "cell_type": "markdown",
      "source": [
        "**We have 404290 observations and 6 features in the dataset.**"
      ]
    },
    {
      "metadata": {
        "trusted": true,
        "id": "MjCGq9xdMGu1",
        "outputId": "349aede7-1b04-4a86-e202-7b7f43f49986"
      },
      "cell_type": "code",
      "source": [
        "train.head()"
      ],
      "execution_count": null,
      "outputs": [
        {
          "output_type": "execute_result",
          "execution_count": 4,
          "data": {
            "text/plain": "   id  qid1  qid2                                          question1  \\\n0   0     1     2  What is the step by step guide to invest in sh...   \n1   1     3     4  What is the story of Kohinoor (Koh-i-Noor) Dia...   \n2   2     5     6  How can I increase the speed of my internet co...   \n3   3     7     8  Why am I mentally very lonely? How can I solve...   \n4   4     9    10  Which one dissolve in water quikly sugar, salt...   \n\n                                           question2  is_duplicate  \n0  What is the step by step guide to invest in sh...             0  \n1  What would happen if the Indian government sto...             0  \n2  How can Internet speed be increased by hacking...             0  \n3  Find the remainder when [math]23^{24}[/math] i...             0  \n4            Which fish would survive in salt water?             0  ",
            "text/html": "<div>\n<style scoped>\n    .dataframe tbody tr th:only-of-type {\n        vertical-align: middle;\n    }\n\n    .dataframe tbody tr th {\n        vertical-align: top;\n    }\n\n    .dataframe thead th {\n        text-align: right;\n    }\n</style>\n<table border=\"1\" class=\"dataframe\">\n  <thead>\n    <tr style=\"text-align: right;\">\n      <th></th>\n      <th>id</th>\n      <th>qid1</th>\n      <th>qid2</th>\n      <th>question1</th>\n      <th>question2</th>\n      <th>is_duplicate</th>\n    </tr>\n  </thead>\n  <tbody>\n    <tr>\n      <th>0</th>\n      <td>0</td>\n      <td>1</td>\n      <td>2</td>\n      <td>What is the step by step guide to invest in sh...</td>\n      <td>What is the step by step guide to invest in sh...</td>\n      <td>0</td>\n    </tr>\n    <tr>\n      <th>1</th>\n      <td>1</td>\n      <td>3</td>\n      <td>4</td>\n      <td>What is the story of Kohinoor (Koh-i-Noor) Dia...</td>\n      <td>What would happen if the Indian government sto...</td>\n      <td>0</td>\n    </tr>\n    <tr>\n      <th>2</th>\n      <td>2</td>\n      <td>5</td>\n      <td>6</td>\n      <td>How can I increase the speed of my internet co...</td>\n      <td>How can Internet speed be increased by hacking...</td>\n      <td>0</td>\n    </tr>\n    <tr>\n      <th>3</th>\n      <td>3</td>\n      <td>7</td>\n      <td>8</td>\n      <td>Why am I mentally very lonely? How can I solve...</td>\n      <td>Find the remainder when [math]23^{24}[/math] i...</td>\n      <td>0</td>\n    </tr>\n    <tr>\n      <th>4</th>\n      <td>4</td>\n      <td>9</td>\n      <td>10</td>\n      <td>Which one dissolve in water quikly sugar, salt...</td>\n      <td>Which fish would survive in salt water?</td>\n      <td>0</td>\n    </tr>\n  </tbody>\n</table>\n</div>"
          },
          "metadata": {}
        }
      ]
    },
    {
      "metadata": {
        "trusted": true,
        "id": "HsWXYNuDMGu2"
      },
      "cell_type": "code",
      "source": [
        "test=pd.read_csv('/kaggle/input/quora-question-pairs/test.csv')"
      ],
      "execution_count": null,
      "outputs": []
    },
    {
      "metadata": {
        "trusted": true,
        "id": "QaM_jxXaMGu2",
        "outputId": "d0400b25-f42c-4b45-f1e3-c30ff8fdd309"
      },
      "cell_type": "code",
      "source": [
        "test.head()"
      ],
      "execution_count": null,
      "outputs": [
        {
          "output_type": "execute_result",
          "execution_count": 6,
          "data": {
            "text/plain": "   test_id                                          question1  \\\n0        0  How does the Surface Pro himself 4 compare wit...   \n1        1  Should I have a hair transplant at age 24? How...   \n2        2  What but is the best way to send money from Ch...   \n3        3                        Which food not emulsifiers?   \n4        4                   How \"aberystwyth\" start reading?   \n\n                                           question2  \n0  Why did Microsoft choose core m3 and not core ...  \n1        How much cost does hair transplant require?  \n2                      What you send money to China?  \n3                                  What foods fibre?  \n4                     How their can I start reading?  ",
            "text/html": "<div>\n<style scoped>\n    .dataframe tbody tr th:only-of-type {\n        vertical-align: middle;\n    }\n\n    .dataframe tbody tr th {\n        vertical-align: top;\n    }\n\n    .dataframe thead th {\n        text-align: right;\n    }\n</style>\n<table border=\"1\" class=\"dataframe\">\n  <thead>\n    <tr style=\"text-align: right;\">\n      <th></th>\n      <th>test_id</th>\n      <th>question1</th>\n      <th>question2</th>\n    </tr>\n  </thead>\n  <tbody>\n    <tr>\n      <th>0</th>\n      <td>0</td>\n      <td>How does the Surface Pro himself 4 compare wit...</td>\n      <td>Why did Microsoft choose core m3 and not core ...</td>\n    </tr>\n    <tr>\n      <th>1</th>\n      <td>1</td>\n      <td>Should I have a hair transplant at age 24? How...</td>\n      <td>How much cost does hair transplant require?</td>\n    </tr>\n    <tr>\n      <th>2</th>\n      <td>2</td>\n      <td>What but is the best way to send money from Ch...</td>\n      <td>What you send money to China?</td>\n    </tr>\n    <tr>\n      <th>3</th>\n      <td>3</td>\n      <td>Which food not emulsifiers?</td>\n      <td>What foods fibre?</td>\n    </tr>\n    <tr>\n      <th>4</th>\n      <td>4</td>\n      <td>How \"aberystwyth\" start reading?</td>\n      <td>How their can I start reading?</td>\n    </tr>\n  </tbody>\n</table>\n</div>"
          },
          "metadata": {}
        }
      ]
    },
    {
      "metadata": {
        "trusted": true,
        "id": "_pVg76BwMGu3",
        "outputId": "3f07f231-b9c9-4a86-c4bc-7c40a8d045fa"
      },
      "cell_type": "code",
      "source": [
        "train[train['is_duplicate']==1].head()"
      ],
      "execution_count": null,
      "outputs": [
        {
          "output_type": "execute_result",
          "execution_count": 7,
          "data": {
            "text/plain": "    id  qid1  qid2                                          question1  \\\n5    5    11    12  Astrology: I am a Capricorn Sun Cap moon and c...   \n7    7    15    16                     How can I be a good geologist?   \n11  11    23    24        How do I read and find my YouTube comments?   \n12  12    25    26               What can make Physics easy to learn?   \n13  13    27    28        What was your first sexual experience like?   \n\n                                            question2  is_duplicate  \n5   I'm a triple Capricorn (Sun, Moon and ascendan...             1  \n7           What should I do to be a great geologist?             1  \n11             How can I see all my Youtube comments?             1  \n12            How can you make physics easy to learn?             1  \n13             What was your first sexual experience?             1  ",
            "text/html": "<div>\n<style scoped>\n    .dataframe tbody tr th:only-of-type {\n        vertical-align: middle;\n    }\n\n    .dataframe tbody tr th {\n        vertical-align: top;\n    }\n\n    .dataframe thead th {\n        text-align: right;\n    }\n</style>\n<table border=\"1\" class=\"dataframe\">\n  <thead>\n    <tr style=\"text-align: right;\">\n      <th></th>\n      <th>id</th>\n      <th>qid1</th>\n      <th>qid2</th>\n      <th>question1</th>\n      <th>question2</th>\n      <th>is_duplicate</th>\n    </tr>\n  </thead>\n  <tbody>\n    <tr>\n      <th>5</th>\n      <td>5</td>\n      <td>11</td>\n      <td>12</td>\n      <td>Astrology: I am a Capricorn Sun Cap moon and c...</td>\n      <td>I'm a triple Capricorn (Sun, Moon and ascendan...</td>\n      <td>1</td>\n    </tr>\n    <tr>\n      <th>7</th>\n      <td>7</td>\n      <td>15</td>\n      <td>16</td>\n      <td>How can I be a good geologist?</td>\n      <td>What should I do to be a great geologist?</td>\n      <td>1</td>\n    </tr>\n    <tr>\n      <th>11</th>\n      <td>11</td>\n      <td>23</td>\n      <td>24</td>\n      <td>How do I read and find my YouTube comments?</td>\n      <td>How can I see all my Youtube comments?</td>\n      <td>1</td>\n    </tr>\n    <tr>\n      <th>12</th>\n      <td>12</td>\n      <td>25</td>\n      <td>26</td>\n      <td>What can make Physics easy to learn?</td>\n      <td>How can you make physics easy to learn?</td>\n      <td>1</td>\n    </tr>\n    <tr>\n      <th>13</th>\n      <td>13</td>\n      <td>27</td>\n      <td>28</td>\n      <td>What was your first sexual experience like?</td>\n      <td>What was your first sexual experience?</td>\n      <td>1</td>\n    </tr>\n  </tbody>\n</table>\n</div>"
          },
          "metadata": {}
        }
      ]
    },
    {
      "metadata": {
        "trusted": true,
        "id": "1OrJQ_4rMGu3",
        "outputId": "45a85c5c-a2a0-45c5-f255-b114719b1ac2"
      },
      "cell_type": "code",
      "source": [
        "train.info()"
      ],
      "execution_count": null,
      "outputs": [
        {
          "output_type": "stream",
          "text": "<class 'pandas.core.frame.DataFrame'>\nRangeIndex: 404290 entries, 0 to 404289\nData columns (total 6 columns):\n #   Column        Non-Null Count   Dtype \n---  ------        --------------   ----- \n 0   id            404290 non-null  int64 \n 1   qid1          404290 non-null  int64 \n 2   qid2          404290 non-null  int64 \n 3   question1     404289 non-null  object\n 4   question2     404288 non-null  object\n 5   is_duplicate  404290 non-null  int64 \ndtypes: int64(4), object(2)\nmemory usage: 18.5+ MB\n",
          "name": "stdout"
        }
      ]
    },
    {
      "metadata": {
        "trusted": true,
        "id": "G-fAaPInMGu4"
      },
      "cell_type": "code",
      "source": [
        "#dropping null values\n",
        "train=train.dropna()"
      ],
      "execution_count": null,
      "outputs": []
    },
    {
      "metadata": {
        "trusted": true,
        "id": "xRDim2XuMGu4"
      },
      "cell_type": "code",
      "source": [
        "train_list1=list(train['question1'])\n",
        "train_list2=list(train['question2'])\n",
        "train_list=train_list1+train_list2"
      ],
      "execution_count": null,
      "outputs": []
    },
    {
      "metadata": {
        "trusted": true,
        "id": "eD6bW5ZdMGu5"
      },
      "cell_type": "code",
      "source": [
        "import tensorflow as tf\n",
        "from tensorflow import keras\n",
        "from tensorflow.keras.preprocessing.text import Tokenizer\n",
        "from tensorflow.keras.preprocessing.sequence import pad_sequences"
      ],
      "execution_count": null,
      "outputs": []
    },
    {
      "metadata": {
        "trusted": true,
        "id": "kWg_WKDMMGu5"
      },
      "cell_type": "code",
      "source": [
        "vocab_size=20000\n",
        "tokenizer=Tokenizer(num_words=vocab_size)\n",
        "tokenizer.fit_on_texts(train_list)"
      ],
      "execution_count": null,
      "outputs": []
    },
    {
      "metadata": {
        "trusted": true,
        "id": "aysjFh6VMGu5"
      },
      "cell_type": "code",
      "source": [
        "sequence1=tokenizer.texts_to_sequences(train_list1)\n",
        "sequence2=tokenizer.texts_to_sequences(train_list2)"
      ],
      "execution_count": null,
      "outputs": []
    },
    {
      "metadata": {
        "trusted": true,
        "id": "eeigmUp-MGu6"
      },
      "cell_type": "code",
      "source": [
        "#padding the sequences to a constant size\n",
        "max_length=100\n",
        "sequence1=pad_sequences(sequence1,maxlen=max_length,padding='post')\n",
        "sequence2=pad_sequences(sequence2,maxlen=max_length,padding='post')"
      ],
      "execution_count": null,
      "outputs": []
    },
    {
      "metadata": {
        "trusted": true,
        "id": "CUCPT8BMMGu6"
      },
      "cell_type": "code",
      "source": [
        "train['seq1']=list(sequence1)"
      ],
      "execution_count": null,
      "outputs": []
    },
    {
      "metadata": {
        "trusted": true,
        "id": "I8W4VDSHMGu6"
      },
      "cell_type": "code",
      "source": [
        "train['seq2']=list(sequence2)"
      ],
      "execution_count": null,
      "outputs": []
    },
    {
      "metadata": {
        "trusted": true,
        "id": "Q61xKCK9MGu7",
        "outputId": "f71b0c7e-cd75-42b3-f512-7660cd0f4872"
      },
      "cell_type": "code",
      "source": [
        "train.head()"
      ],
      "execution_count": null,
      "outputs": [
        {
          "output_type": "execute_result",
          "execution_count": 17,
          "data": {
            "text/plain": "   id  qid1  qid2                                          question1  \\\n0   0     1     2  What is the step by step guide to invest in sh...   \n1   1     3     4  What is the story of Kohinoor (Koh-i-Noor) Dia...   \n2   2     5     6  How can I increase the speed of my internet co...   \n3   3     7     8  Why am I mentally very lonely? How can I solve...   \n4   4     9    10  Which one dissolve in water quikly sugar, salt...   \n\n                                           question2  is_duplicate  \\\n0  What is the step by step guide to invest in sh...             0   \n1  What would happen if the Indian government sto...             0   \n2  How can Internet speed be increased by hacking...             0   \n3  Find the remainder when [math]23^{24}[/math] i...             0   \n4            Which fish would survive in salt water?             0   \n\n                                                seq1  \\\n0  [2, 3, 1, 1222, 57, 1222, 2581, 7, 576, 8, 763...   \n1  [2, 3, 1, 559, 10, 14300, 13598, 5, 4565, 0, 0...   \n2  [4, 13, 5, 217, 1, 440, 10, 17, 361, 1827, 200...   \n3  [16, 72, 5, 2774, 312, 2757, 4, 13, 5, 649, 19...   \n4  [23, 49, 7131, 8, 231, 1891, 2047, 10570, 12, ...   \n\n                                                seq2  \n0  [2, 3, 1, 1222, 57, 1222, 2581, 7, 576, 8, 763...  \n1  [2, 43, 182, 25, 1, 82, 237, 11296, 1, 14300, ...  \n2  [4, 13, 361, 440, 24, 3338, 57, 1344, 219, 109...  \n3  [87, 1, 4170, 37, 230, 2234, 1343, 230, 3, 245...  \n4  [23, 1945, 43, 1242, 8, 2047, 231, 0, 0, 0, 0,...  ",
            "text/html": "<div>\n<style scoped>\n    .dataframe tbody tr th:only-of-type {\n        vertical-align: middle;\n    }\n\n    .dataframe tbody tr th {\n        vertical-align: top;\n    }\n\n    .dataframe thead th {\n        text-align: right;\n    }\n</style>\n<table border=\"1\" class=\"dataframe\">\n  <thead>\n    <tr style=\"text-align: right;\">\n      <th></th>\n      <th>id</th>\n      <th>qid1</th>\n      <th>qid2</th>\n      <th>question1</th>\n      <th>question2</th>\n      <th>is_duplicate</th>\n      <th>seq1</th>\n      <th>seq2</th>\n    </tr>\n  </thead>\n  <tbody>\n    <tr>\n      <th>0</th>\n      <td>0</td>\n      <td>1</td>\n      <td>2</td>\n      <td>What is the step by step guide to invest in sh...</td>\n      <td>What is the step by step guide to invest in sh...</td>\n      <td>0</td>\n      <td>[2, 3, 1, 1222, 57, 1222, 2581, 7, 576, 8, 763...</td>\n      <td>[2, 3, 1, 1222, 57, 1222, 2581, 7, 576, 8, 763...</td>\n    </tr>\n    <tr>\n      <th>1</th>\n      <td>1</td>\n      <td>3</td>\n      <td>4</td>\n      <td>What is the story of Kohinoor (Koh-i-Noor) Dia...</td>\n      <td>What would happen if the Indian government sto...</td>\n      <td>0</td>\n      <td>[2, 3, 1, 559, 10, 14300, 13598, 5, 4565, 0, 0...</td>\n      <td>[2, 43, 182, 25, 1, 82, 237, 11296, 1, 14300, ...</td>\n    </tr>\n    <tr>\n      <th>2</th>\n      <td>2</td>\n      <td>5</td>\n      <td>6</td>\n      <td>How can I increase the speed of my internet co...</td>\n      <td>How can Internet speed be increased by hacking...</td>\n      <td>0</td>\n      <td>[4, 13, 5, 217, 1, 440, 10, 17, 361, 1827, 200...</td>\n      <td>[4, 13, 361, 440, 24, 3338, 57, 1344, 219, 109...</td>\n    </tr>\n    <tr>\n      <th>3</th>\n      <td>3</td>\n      <td>7</td>\n      <td>8</td>\n      <td>Why am I mentally very lonely? How can I solve...</td>\n      <td>Find the remainder when [math]23^{24}[/math] i...</td>\n      <td>0</td>\n      <td>[16, 72, 5, 2774, 312, 2757, 4, 13, 5, 649, 19...</td>\n      <td>[87, 1, 4170, 37, 230, 2234, 1343, 230, 3, 245...</td>\n    </tr>\n    <tr>\n      <th>4</th>\n      <td>4</td>\n      <td>9</td>\n      <td>10</td>\n      <td>Which one dissolve in water quikly sugar, salt...</td>\n      <td>Which fish would survive in salt water?</td>\n      <td>0</td>\n      <td>[23, 49, 7131, 8, 231, 1891, 2047, 10570, 12, ...</td>\n      <td>[23, 1945, 43, 1242, 8, 2047, 231, 0, 0, 0, 0,...</td>\n    </tr>\n  </tbody>\n</table>\n</div>"
          },
          "metadata": {}
        }
      ]
    },
    {
      "metadata": {
        "trusted": true,
        "id": "hQR66XyDMGu7"
      },
      "cell_type": "code",
      "source": [
        "labels=np.asarray(train['is_duplicate'])"
      ],
      "execution_count": null,
      "outputs": []
    },
    {
      "metadata": {
        "trusted": true,
        "id": "NT7ftc95MGu8"
      },
      "cell_type": "code",
      "source": [
        "#functional API\n",
        "from tensorflow.keras.models import Model\n",
        "from tensorflow.keras.layers import Dense,Embedding,LSTM,concatenate"
      ],
      "execution_count": null,
      "outputs": []
    },
    {
      "metadata": {
        "id": "i37R9papMGu8"
      },
      "cell_type": "markdown",
      "source": [
        "**Embedding the LSTM Layer**"
      ]
    },
    {
      "metadata": {
        "trusted": true,
        "id": "hv6xAt8JMGu8"
      },
      "cell_type": "code",
      "source": [
        "from tensorflow.keras import Input\n",
        "\n",
        "text_input1=Input(shape=(None,),dtype='int32')\n",
        "embedding1=Embedding(vocab_size,64)(text_input1)\n",
        "encoded_text1=LSTM(32)(embedding1)\n",
        "\n",
        "text_input2=Input(shape=(None,),dtype='int32')\n",
        "embedding2=Embedding(vocab_size,64)(text_input2)\n",
        "encoded_text2=LSTM(32)(embedding2)\n",
        "\n",
        "concatenated=concatenate([encoded_text1,encoded_text2],axis=-1)\n",
        "\n",
        "output=Dense(64,activation='relu')(concatenated)\n",
        "output=Dense(1,activation='sigmoid')(output)"
      ],
      "execution_count": null,
      "outputs": []
    },
    {
      "metadata": {
        "id": "U-dG28kQMGu9"
      },
      "cell_type": "markdown",
      "source": [
        "**Compiling the model with Adam optimizer and loss as categorical crossentropy and evaluating the results using accuracy.**"
      ]
    },
    {
      "metadata": {
        "trusted": true,
        "id": "fxasQxHbMGu9"
      },
      "cell_type": "code",
      "source": [
        "model=Model([text_input1,text_input2],output)\n",
        "model.compile(optimizer='adam',loss='binary_crossentropy',metrics=['accuracy'])"
      ],
      "execution_count": null,
      "outputs": []
    },
    {
      "metadata": {
        "trusted": true,
        "id": "c6dmi8KqMGu9",
        "outputId": "9094c080-33d0-45cd-bc80-b966dcbe42d3"
      },
      "cell_type": "code",
      "source": [
        "model.summary()"
      ],
      "execution_count": null,
      "outputs": [
        {
          "output_type": "stream",
          "text": "Model: \"model\"\n__________________________________________________________________________________________________\nLayer (type)                    Output Shape         Param #     Connected to                     \n==================================================================================================\ninput_1 (InputLayer)            [(None, None)]       0                                            \n__________________________________________________________________________________________________\ninput_2 (InputLayer)            [(None, None)]       0                                            \n__________________________________________________________________________________________________\nembedding (Embedding)           (None, None, 64)     1280000     input_1[0][0]                    \n__________________________________________________________________________________________________\nembedding_1 (Embedding)         (None, None, 64)     1280000     input_2[0][0]                    \n__________________________________________________________________________________________________\nlstm (LSTM)                     (None, 32)           12416       embedding[0][0]                  \n__________________________________________________________________________________________________\nlstm_1 (LSTM)                   (None, 32)           12416       embedding_1[0][0]                \n__________________________________________________________________________________________________\nconcatenate (Concatenate)       (None, 64)           0           lstm[0][0]                       \n                                                                 lstm_1[0][0]                     \n__________________________________________________________________________________________________\ndense (Dense)                   (None, 64)           4160        concatenate[0][0]                \n__________________________________________________________________________________________________\ndense_1 (Dense)                 (None, 1)            65          dense[0][0]                      \n==================================================================================================\nTotal params: 2,589,057\nTrainable params: 2,589,057\nNon-trainable params: 0\n__________________________________________________________________________________________________\n",
          "name": "stdout"
        }
      ]
    },
    {
      "metadata": {
        "id": "jhEQg9PEMGu-"
      },
      "cell_type": "markdown",
      "source": [
        "**Fitting the model**"
      ]
    },
    {
      "metadata": {
        "trusted": true,
        "id": "dRqthQP9MGu-",
        "outputId": "8783cb99-47bc-4481-ef6d-04201d0988a9"
      },
      "cell_type": "code",
      "source": [
        "hist = model.fit([sequence1,sequence2],labels,epochs = 10,batch_size=128)"
      ],
      "execution_count": null,
      "outputs": [
        {
          "output_type": "stream",
          "text": "Epoch 1/10\n3159/3159 [==============================] - 101s 32ms/step - loss: 0.6589 - accuracy: 0.6306\nEpoch 2/10\n3159/3159 [==============================] - 101s 32ms/step - loss: 0.6587 - accuracy: 0.6308\nEpoch 3/10\n3159/3159 [==============================] - 101s 32ms/step - loss: 0.6586 - accuracy: 0.6308\nEpoch 4/10\n3159/3159 [==============================] - 101s 32ms/step - loss: 0.6586 - accuracy: 0.6308\nEpoch 5/10\n3159/3159 [==============================] - 100s 32ms/step - loss: 0.6586 - accuracy: 0.6308\nEpoch 6/10\n3159/3159 [==============================] - 100s 32ms/step - loss: 0.6586 - accuracy: 0.6308\nEpoch 7/10\n3159/3159 [==============================] - 100s 32ms/step - loss: 0.6586 - accuracy: 0.6308\nEpoch 8/10\n3159/3159 [==============================] - 99s 31ms/step - loss: 0.6317 - accuracy: 0.6527\nEpoch 9/10\n3159/3159 [==============================] - 100s 32ms/step - loss: 0.5991 - accuracy: 0.6789\nEpoch 10/10\n3159/3159 [==============================] - 100s 32ms/step - loss: 0.5212 - accuracy: 0.7416\n",
          "name": "stdout"
        }
      ]
    },
    {
      "metadata": {
        "id": "7HacH4mBMGu-"
      },
      "cell_type": "markdown",
      "source": [
        "**At the end of 10th epoch we are getting an accuracy of 74% and 0.52 loss.**"
      ]
    }
  ],
  "metadata": {
    "kernelspec": {
      "name": "python3",
      "display_name": "Python 3",
      "language": "python"
    },
    "language_info": {
      "name": "python",
      "version": "3.7.6",
      "mimetype": "text/x-python",
      "codemirror_mode": {
        "name": "ipython",
        "version": 3
      },
      "pygments_lexer": "ipython3",
      "nbconvert_exporter": "python",
      "file_extension": ".py"
    },
    "colab": {
      "provenance": []
    }
  },
  "nbformat": 4,
  "nbformat_minor": 0
}